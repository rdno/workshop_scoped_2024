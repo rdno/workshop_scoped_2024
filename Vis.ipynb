{
 "cells": [
  {
   "cell_type": "markdown",
   "id": "9c6c6e62-c207-4c61-8d54-2c70dabda9c1",
   "metadata": {},
   "source": [
    "```console\n",
    "$ pip install pyvista\n",
    "$ pip install trame\n",
    "$ pip install trame-vtk\n",
    "$ pip install trame-vuetify\n",
    "$ pip install ipywidgets\n",
    "```"
   ]
  },
  {
   "cell_type": "code",
   "execution_count": 1,
   "id": "32959fee-cea4-432e-878b-94e93e7a3571",
   "metadata": {},
   "outputs": [],
   "source": [
    "import pyvista\n",
    "import numpy as np\n",
    "from matplotlib.colors import LinearSegmentedColormap\n",
    "\n",
    "pyvista.set_jupyter_backend('client')"
   ]
  },
  {
   "cell_type": "code",
   "execution_count": 2,
   "id": "0e2923af-b2b2-4b6b-a148-d0dd3a82cd07",
   "metadata": {},
   "outputs": [],
   "source": [
    "def read_colormap_file(filename, name=\"custom\", reverse=False):\n",
    "    colormap_data = np.loadtxt(filename)\n",
    "    if reverse:\n",
    "        colormap_data = colormap_data[::-1]\n",
    "    cmap = LinearSegmentedColormap.from_list(name, colormap_data)\n",
    "    return cmap"
   ]
  },
  {
   "cell_type": "code",
   "execution_count": 3,
   "id": "b9995796-cd11-4db6-9a97-d3538b97f858",
   "metadata": {},
   "outputs": [],
   "source": [
    "data = pyvista.read(\"./vis/reg_1_alpha_kernel.vtk\")"
   ]
  },
  {
   "cell_type": "code",
   "execution_count": 4,
   "id": "5c11fdc0-b688-4386-ade1-7dd03c0f99ea",
   "metadata": {},
   "outputs": [],
   "source": [
    "# boundaries = pyvista.read(\"/home/orsvuran/Documents/AVS_continent_boundaries.vtu\")"
   ]
  },
  {
   "cell_type": "code",
   "execution_count": 5,
   "id": "7e368198-1ae0-4327-a60d-ea446f74c2b3",
   "metadata": {},
   "outputs": [],
   "source": [
    "def spherical_to_cartesian(lat, lon, r):\n",
    "    theta = np.pi / 2 - np.deg2rad(lat)\n",
    "    phi = np.deg2rad(lon)\n",
    "    return [\n",
    "        r * np.sin(theta) * np.cos(phi),\n",
    "        r * np.sin(theta) * np.sin(phi),\n",
    "        r * np.cos(theta),\n",
    "    ]\n",
    "\n",
    "\n",
    "def get_normalized_depth(depth, R=6371.0):\n",
    "    \"\"\"Turns depth to Radius of the unit sphere.\"\"\"\n",
    "    return (R - depth) / R\n",
    "\n",
    "\n",
    "def get_normal_cartesian(x0, y0, z0, x1, y1, z1):\n",
    "    a = np.array([x0, y0, z0])\n",
    "    b = np.array([x1, y1, z1])\n",
    "    n = np.cross(a, b)\n",
    "    n = n / np.linalg.norm(n)\n",
    "    return n\n",
    "\n",
    "\n",
    "def get_plane_normal_cartesian(x0, y0, z0, x1, y1, z1):\n",
    "    a = np.array([x0, y0, z0])\n",
    "    b = np.array([x1, y1, z1])\n",
    "    n = np.cross(a, b)\n",
    "    n = n / np.linalg.norm(n)\n",
    "    return n\n",
    "\n",
    "\n",
    "def get_plane_normal_spherical(lat0, lon0, lat1, lon1, d0=0, d1=0, R=6371.0):\n",
    "    loc0 = spherical_to_cartesian(lat0, lon0, get_normalized_depth(d0, R))\n",
    "    loc1 = spherical_to_cartesian(lat1, lon1, get_normalized_depth(d1, R))\n",
    "    return get_plane_normal_cartesian(*loc0, *loc1)"
   ]
  },
  {
   "cell_type": "code",
   "execution_count": 6,
   "id": "eaa25589-7a8d-43ef-a599-39833d7b7700",
   "metadata": {},
   "outputs": [],
   "source": [
    "cmap = read_colormap_file(\"./vis/red_yellow_cyan_blue.dat\", reverse=True)"
   ]
  },
  {
   "cell_type": "code",
   "execution_count": 7,
   "id": "63fdc40a-f84e-4eb2-9bdb-15f2f22d65fa",
   "metadata": {},
   "outputs": [],
   "source": [
    "normal = get_plane_normal_spherical(37.49, 137.17, 1.3549, 172.9229, d0=12.0)"
   ]
  },
  {
   "cell_type": "code",
   "execution_count": 8,
   "id": "bf5639e3-2fd9-4787-b527-e8886f1c0ffc",
   "metadata": {},
   "outputs": [],
   "source": [
    "slice1 = data.slice(normal, origin=(0, 0, 0))"
   ]
  },
  {
   "cell_type": "code",
   "execution_count": 9,
   "id": "394df972-ab8b-49be-b6c1-8f61d5905caf",
   "metadata": {},
   "outputs": [
    {
     "data": {
      "application/vnd.jupyter.widget-view+json": {
       "model_id": "f23fe5e999914233aadb2cb30decd5b1",
       "version_major": 2,
       "version_minor": 0
      },
      "text/plain": [
       "Widget(value='<iframe src=\"http://localhost:40661/index.html?ui=P_0x7ed21b5822a0_0&reconnect=auto\" class=\"pyvi…"
      ]
     },
     "metadata": {},
     "output_type": "display_data"
    }
   ],
   "source": [
    "p = pyvista.Plotter()\n",
    "p.add_mesh(slice1, clim=(-1e-6, 1e-6), cmap=cmap)\n",
    "source = pyvista.Sphere(0.02, center=spherical_to_cartesian(37.49, 137.17, get_normalized_depth(12.0)))\n",
    "station = pyvista.Sphere(0.02, center=spherical_to_cartesian(1.3549, 172.9229, get_normalized_depth(0.0)))\n",
    "p.add_mesh(source)\n",
    "p.add_mesh(station)\n",
    "# p.add_mesh(boundaries, color=\"black\")\n",
    "p.camera_position = [(-0.6006338601038901, -1.0514154287074078, 1.5359628467148005),\n",
    " (-0.35779793560504913, 0.3092064131051302, 0.40716348122805357),\n",
    " (-0.669778474894765, 0.5412746567173775, 0.5083488374759283)]\n",
    "p.show()"
   ]
  }
 ],
 "metadata": {
  "kernelspec": {
   "display_name": "Python 3 (ipykernel)",
   "language": "python",
   "name": "python3"
  },
  "language_info": {
   "codemirror_mode": {
    "name": "ipython",
    "version": 3
   },
   "file_extension": ".py",
   "mimetype": "text/x-python",
   "name": "python",
   "nbconvert_exporter": "python",
   "pygments_lexer": "ipython3",
   "version": "3.12.2"
  }
 },
 "nbformat": 4,
 "nbformat_minor": 5
}
